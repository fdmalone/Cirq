{
 "cells": [
  {
   "cell_type": "markdown",
   "metadata": {},
   "source": [
    "# Inner / Outer prepare\n",
    "\n",
    "<!-- We can write the second quantized electronic structure Hamiltonian as\n",
    "\n",
    "$$\n",
    "\\begin{aligned}\n",
    "V &= \\frac{1}{2}\\sum_l^L\\left(\\sum_\\sigma \\sum_{pq} W_{pq}^{(l)} a_{p\\sigma}^\\dagger a_{q\\sigma}\\right)^2 \\\\\n",
    "  &= \\frac{1}{2}\\sum_l^L U_l \\left(\\sum_{\\sigma}\\sum_{p}^{N/2} f_p^{(l)}n_{p\\sigma}\\right)^2 U_l^{\\dagger},\n",
    "\\end{aligned}\n",
    "$$\n",
    "where the $U_l$ are the unitary matrices that diagonalize $W^{l}$.\n",
    "\n",
    "After some algebra, we can write $V$ in the Jordan Wigner representation as\n",
    "\n",
    "$$\n",
    "V = \\frac{1}{8}\\sum_l U_l \\left(\\sum_\\sigma \\sum_p^{N/2} f_p Z_{p\\sigma}\\right)^2 U_l^\\dagger. \n",
    "$$\n",
    "\n",
    "As before we need to define SELECT and PREPARE circuits for this particular factorization. -->\n",
    "\n",
    "When performing state preparation on a factorized Hamiltonian that involves a sum over an auxiliary index $l$ of size $L$ followed by summing over a sum of squared terms it is common to split these into an outer and an inner prepare, similar to an outer and inner `for' loop in regular programming.\n",
    "\n",
    "For example, for the single-factorized Hamiltonian our outer prepare prepares the state\n",
    "\n",
    "$$\n",
    "\\mathrm{OuterPrepare}|0\\rangle^{\\otimes \\lceil\\log (L+1)\\rceil} = \\frac{1}{\\sqrt{\\lambda}}\\left(|0\\rangle \\sqrt{2\\sum_{pq}T_{pq}'} +  \\sum_{l=1}^L |l\\rangle \\sum_{p\\le q}|W_{pq}^{(l)}|\\right) \n",
    "$$\n",
    "where\n",
    "$$\n",
    "\\lambda = \\sum_{pq}^{N/2} T'_{pq} + \\frac{1}{4}\\sum_{l=1}^{L}\\left(\\sum_{pq}^{N/2} |W_{pq}^{(l)}|\\right)^2 \n",
    "$$\n",
    "\n",
    "Recall that cirq-ft provides a generic state preparation routine that uses alias sampling to prepare \n",
    "\n",
    "$$\n",
    "\\sum_{\\ell=0}^{L-1} \\sqrt{p_\\ell} |\\ell\\rangle |\\mathrm{temp}_\\ell\\rangle\n",
    "$$\n",
    "where $p_l$ are probabilities, i.e. $\\sum_l p_l = 1$. `StatePreparationAliasSampling` provides a convenient factory method `from_lcu_probs` which will take our (unnormalized) coefficients as input as well as a desired precision with which to represent these amplitudes. Thus, it remains to simply build a flattened array containing the appropriate (positive) coefficients. "
   ]
  },
  {
   "cell_type": "code",
   "execution_count": 75,
   "metadata": {},
   "outputs": [],
   "source": [
    "import numpy as np\n",
    "import cirq\n",
    "import cirq_ft.infra.testing as cq_testing\n",
    "from cirq_ft.algos.state_preparation import StatePreparationAliasSampling\n",
    "from cirq_ft.algos.state_preparation_test import construct_gate_helper_and_qubit_order \n",
    "from cirq_ft.infra.jupyter_tools import display_gate_and_compilation\n",
    "\n",
    "np.random.seed(7)\n",
    "nmo = 2\n",
    "naux = 2 * nmo\n",
    "Tpq = np.random.random((nmo, nmo))\n",
    "Wlpq = np.random.random((naux, nmo, nmo))\n",
    "c_0 = [np.sum(np.abs(Tpq))]\n",
    "# ignore p <= q condition for the moment for simplicity\n",
    "c_l = np.einsum(\"lpq->l\", np.abs(Wlpq))\n",
    "mu = 3\n",
    "coeffs = np.concatenate((c_0, c_l))\n",
    "coeffs /= sum(coeffs)\n",
    "assert len(coeffs) == 1 + naux\n",
    "\n",
    "outer_prepare = StatePreparationAliasSampling.from_lcu_probs(coeffs/np.sum(coeffs), probability_epsilon=2**(-mu) / len(coeffs))"
   ]
  },
  {
   "cell_type": "markdown",
   "metadata": {},
   "source": [
    "Now test that it is correct"
   ]
  },
  {
   "cell_type": "code",
   "execution_count": 76,
   "metadata": {},
   "outputs": [
    {
     "name": "stdout",
     "output_type": "stream",
     "text": [
      "num qubits = 26\n"
     ]
    }
   ],
   "source": [
    "g, qubit_order, decomposed_circuit = construct_gate_helper_and_qubit_order(outer_prepare)\n",
    "print(f\"num qubits = {len(g.all_qubits)}\")"
   ]
  },
  {
   "cell_type": "code",
   "execution_count": 77,
   "metadata": {},
   "outputs": [],
   "source": [
    "result = cirq.Simulator(dtype=np.complex128).simulate(\n",
    "    decomposed_circuit, qubit_order=qubit_order\n",
    ")\n",
    "sv = result.final_state_vector"
   ]
  },
  {
   "cell_type": "code",
   "execution_count": 78,
   "metadata": {},
   "outputs": [],
   "source": [
    "# little utility function ripped from alias sampling test to get non-garbage register amplitudes\n",
    "def get_prepared_state(gate: \"GateHelper\", state_vector: np.ndarray, num_terms: int):\n",
    "    logL = len(g.quregs['selection'])\n",
    "    L = num_terms\n",
    "    state_vector = state_vector.reshape(2**logL, len(state_vector) // 2**logL)\n",
    "    num_non_zero = (abs(state_vector) > 1e-6).sum(axis=1)\n",
    "    prepared_state = state_vector.sum(axis=1)\n",
    "    assert all(num_non_zero[:L] > 0) and all(num_non_zero[L:] == 0)\n",
    "    assert all(np.abs(prepared_state[:L]) > 1e-6) and all(np.abs(prepared_state[L:]) <= 1e-6)\n",
    "    prepared_state = prepared_state[:L] / np.sqrt(num_non_zero[:L])\n",
    "    return prepared_state"
   ]
  },
  {
   "cell_type": "code",
   "execution_count": 79,
   "metadata": {},
   "outputs": [
    {
     "name": "stdout",
     "output_type": "stream",
     "text": [
      "<psi|psi> = 0.9999999999999994\n",
      "[0.2   0.225 0.225 0.175 0.175]\n",
      "[0.20966678 0.2171009  0.23389351 0.17086428 0.16847453]\n"
     ]
    }
   ],
   "source": [
    "prepared_state = get_prepared_state(g, sv, naux+1)\n",
    "print(f\"<psi|psi> = {sum(abs(prepared_state)**2.0)}\")\n",
    "print(abs(prepared_state)**2)\n",
    "print(coeffs)"
   ]
  },
  {
   "cell_type": "markdown",
   "metadata": {},
   "source": [
    "Now for the inner prepare we have \n",
    "\n",
    "$$\n",
    "(\\mathrm{InnerPrepare})(\\mathrm{OuterPrepare})|0\\rangle|\\mathrm{temp}\\rangle = \\frac{1}{\\sqrt{\\lambda}}\\left(\n",
    "    |0\\rangle \\sum_{p \\le q} \\sqrt{2 |T'_{pq}|}|p,q\\rangle + \\sum_l |l\\rangle \\sqrt{\\sum_{rs} |W_{rs}^{(l)}|}\\sum_{p\\le q} \\sqrt{|W_{pq}^{(l)}}|p,q\\rangle\n",
    "\\right)\n",
    "$$\n",
    "where we have ignored the sign-flagging-bits $|\\theta_{pq}^{(l)}\\rangle$."
   ]
  },
  {
   "cell_type": "markdown",
   "metadata": {},
   "source": []
  },
  {
   "cell_type": "markdown",
   "metadata": {},
   "source": [
    "It may be easier to first consider preparing the state\n",
    "\n",
    "$$\n",
    "IO|0\\rangle = \\sum_l |l\\rangle\\sqrt{\\sum_q|W_q^{(l)}|}\\sum_{q}\\sqrt{W_p^{(l)}}|p\\rangle\n",
    "$$"
   ]
  },
  {
   "cell_type": "markdown",
   "metadata": {},
   "source": []
  }
 ],
 "metadata": {
  "kernelspec": {
   "display_name": "cirq-ft",
   "language": "python",
   "name": "python3"
  },
  "language_info": {
   "codemirror_mode": {
    "name": "ipython",
    "version": 3
   },
   "file_extension": ".py",
   "mimetype": "text/x-python",
   "name": "python",
   "nbconvert_exporter": "python",
   "pygments_lexer": "ipython3",
   "version": "3.11.4"
  },
  "orig_nbformat": 4
 },
 "nbformat": 4,
 "nbformat_minor": 2
}
