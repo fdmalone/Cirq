{
 "cells": [
  {
   "attachments": {},
   "cell_type": "markdown",
   "metadata": {},
   "source": [
    "# Inner / Outer prepare\n",
    "\n",
    "<!-- We can write the second quantized electronic structure Hamiltonian as\n",
    "\n",
    "$$\n",
    "\\begin{aligned}\n",
    "V &= \\frac{1}{2}\\sum_l^L\\left(\\sum_\\sigma \\sum_{pq} W_{pq}^{(l)} a_{p\\sigma}^\\dagger a_{q\\sigma}\\right)^2 \\\\\n",
    "  &= \\frac{1}{2}\\sum_l^L U_l \\left(\\sum_{\\sigma}\\sum_{p}^{N/2} f_p^{(l)}n_{p\\sigma}\\right)^2 U_l^{\\dagger},\n",
    "\\end{aligned}\n",
    "$$\n",
    "where the $U_l$ are the unitary matrices that diagonalize $W^{l}$.\n",
    "\n",
    "After some algebra, we can write $V$ in the Jordan Wigner representation as\n",
    "\n",
    "$$\n",
    "V = \\frac{1}{8}\\sum_l U_l \\left(\\sum_\\sigma \\sum_p^{N/2} f_p Z_{p\\sigma}\\right)^2 U_l^\\dagger. \n",
    "$$\n",
    "\n",
    "As before we need to define SELECT and PREPARE circuits for this particular factorization. -->\n",
    "\n",
    "When performing state preparation on a factorized Hamiltonian that involves a sum over an auxiliary index $l$ of size $L$ followed by summing over a sum of squared terms it is common to split these into an outer and an inner prepare, similar to an outer and inner `for' loop in regular programming.\n",
    "\n",
    "For example, for the single-factorized Hamiltonian our outer prepare prepares the state\n",
    "\n",
    "$$\n",
    "\\mathrm{OuterPrepare}|0\\rangle^{\\otimes \\lceil\\log (L+1)\\rceil} = \\frac{1}{\\sqrt{\\lambda}}\\left(|0\\rangle \\sqrt{2\\sum_{pq}T_{pq}'} +  \\sum_{l=1}^L |l\\rangle \\sum_{p\\le q}|W_{pq}^{(l)}|\\right) \n",
    "$$\n",
    "where\n",
    "$$\n",
    "\\lambda = \\sum_{pq}^{N/2} T'_{pq} + \\frac{1}{4}\\sum_{l=1}^{L}\\left(\\sum_{pq}^{N/2} |W_{pq}^{(l)}|\\right)^2 \n",
    "$$\n",
    "\n",
    "Recall that cirq-ft provides a generic state preparation routine that uses alias sampling to prepare \n",
    "\n",
    "$$\n",
    "\\sum_{\\ell=0}^{L-1} \\sqrt{p_\\ell} |\\ell\\rangle |\\mathrm{temp}_\\ell\\rangle\n",
    "$$\n",
    "where $p_l$ are probabilities, i.e. $\\sum_l p_l = 1$. `StatePreparationAliasSampling` provides a convenient factory method `from_lcu_probs` which will take our (unnormalized) coefficients as input as well as a desired precision with which to represent these amplitudes. Thus, it remains to simply build a flattened array containing the appropriate (positive) coefficients. "
   ]
  },
  {
   "cell_type": "code",
   "execution_count": 60,
   "metadata": {},
   "outputs": [],
   "source": [
    "import numpy as np\n",
    "import cirq\n",
    "import cirq_ft.infra.testing as cq_testing\n",
    "from cirq_ft.algos.state_preparation import StatePreparationAliasSampling\n",
    "from cirq_ft.algos.state_preparation_test import construct_gate_helper_and_qubit_order \n",
    "from cirq_ft.infra.jupyter_tools import display_gate_and_compilation\n",
    "\n",
    "np.random.seed(7)\n",
    "nmo = 2\n",
    "naux = 2 * nmo\n",
    "Tpq = np.random.random((nmo, nmo))\n",
    "Wlpq = np.random.random((naux, nmo, nmo))\n",
    "c_0 = [np.sum(np.abs(Tpq))]\n",
    "# ignore p <= q condition for the moment for simplicity\n",
    "c_l = np.einsum(\"lpq->l\", np.abs(Wlpq))\n",
    "mu = 3\n",
    "coeffs = np.concatenate((c_0, c_l))\n",
    "coeffs /= sum(coeffs)\n",
    "assert len(coeffs) == 1 + naux\n",
    "\n",
    "outer_prepare = StatePreparationAliasSampling.from_lcu_probs(coeffs/np.sum(coeffs), probability_epsilon=2**(-mu) / len(coeffs))"
   ]
  },
  {
   "attachments": {},
   "cell_type": "markdown",
   "metadata": {},
   "source": [
    "Now test that it is correct"
   ]
  },
  {
   "cell_type": "code",
   "execution_count": 61,
   "metadata": {},
   "outputs": [
    {
     "name": "stdout",
     "output_type": "stream",
     "text": [
      "num qubits = 26\n"
     ]
    }
   ],
   "source": [
    "g, qubit_order, decomposed_circuit = construct_gate_helper_and_qubit_order(outer_prepare)\n",
    "print(f\"num qubits = {len(g.all_qubits)}\")"
   ]
  },
  {
   "cell_type": "code",
   "execution_count": 62,
   "metadata": {},
   "outputs": [],
   "source": [
    "result = cirq.Simulator(dtype=np.complex128).simulate(\n",
    "    decomposed_circuit, qubit_order=qubit_order\n",
    ")\n",
    "sv = result.final_state_vector"
   ]
  },
  {
   "cell_type": "code",
   "execution_count": 65,
   "metadata": {},
   "outputs": [],
   "source": [
    "# little utility function ripped from alias sampling test to get non-garbage register amplitudes\n",
    "def get_prepared_state(gate: \"GateHelper\", state_vector: np.ndarray, num_terms: int):\n",
    "    logL = len(g.quregs['selection'])\n",
    "    L = num_terms\n",
    "    state_vector = state_vector.reshape(2**logL, len(state_vector) // 2**logL)\n",
    "    num_non_zero = (abs(state_vector) > 1e-6).sum(axis=1)\n",
    "    prepared_state = state_vector.sum(axis=1)\n",
    "    assert all(num_non_zero[:L] > 0) and all(num_non_zero[L:] == 0)\n",
    "    assert all(np.abs(prepared_state[:L]) > 1e-6) and all(np.abs(prepared_state[L:]) <= 1e-6)\n",
    "    prepared_state = prepared_state[:L] / np.sqrt(num_non_zero[:L])\n",
    "    return prepared_state"
   ]
  },
  {
   "cell_type": "code",
   "execution_count": 66,
   "metadata": {},
   "outputs": [
    {
     "name": "stdout",
     "output_type": "stream",
     "text": [
      "<psi|psi> = 1.0000000000000002\n",
      "[0.2   0.225 0.225 0.175 0.175]\n",
      "[0.20966678 0.2171009  0.23389351 0.17086428 0.16847453]\n"
     ]
    }
   ],
   "source": [
    "prepared_state = get_prepared_state(g, sv, naux+1)\n",
    "print(f\"<psi|psi> = {sum(abs(prepared_state)**2.0)}\")\n",
    "print(abs(prepared_state)**2)\n",
    "print(coeffs)"
   ]
  },
  {
   "attachments": {},
   "cell_type": "markdown",
   "metadata": {},
   "source": [
    "Now for the inner prepare we have \n",
    "\n",
    "$$\n",
    "(\\mathrm{InnerPrepare})(\\mathrm{OuterPrepare})|0\\rangle|\\mathrm{temp}\\rangle = \\frac{1}{\\sqrt{\\lambda}}\\left(\n",
    "    |0\\rangle \\sum_{p \\le q} \\sqrt{2 |T'_{pq}|}|p,q\\rangle + \\sum_l |l\\rangle \\sqrt{\\sum_{rs} |W_{rs}^{(l)}|}\\sum_{p\\le q} \\sqrt{|W_{pq}^{(l)}}|p,q\\rangle\n",
    "\\right)\n",
    "$$\n",
    "where we have ignored the sign-flagging-bits $|\\theta_{pq}^{(l)}\\rangle$."
   ]
  },
  {
   "cell_type": "code",
   "execution_count": 67,
   "metadata": {},
   "outputs": [
    {
     "data": {
      "application/vnd.jupyter.widget-view+json": {
       "model_id": "c172d9e9c19e4948b2d612a658d2984d",
       "version_major": 2,
       "version_minor": 0
      },
      "text/plain": [
       "HBox(children=(Output(outputs=({'output_type': 'display_data', 'data': {'text/plain': '<IPython.core.display.S…"
      ]
     },
     "metadata": {},
     "output_type": "display_data"
    },
    {
     "name": "stdout",
     "output_type": "stream",
     "text": [
      "num qubits = 25\n"
     ]
    }
   ],
   "source": [
    "from cirq_ft.algos.chemistry.single_factorization import InnerPrepareQROM\n",
    "\n",
    "inner_prep = InnerPrepareQROM.build_from_coefficients(Wlpq, probability_epsilon=2**(-mu) / len(Wlpq[0]))\n",
    "g = cq_testing.GateHelper(\n",
    "    inner_prep \n",
    ")\n",
    "\n",
    "display_gate_and_compilation(g, include_costs=False)\n",
    "print(f\"num qubits = {len(g.all_qubits)}\")"
   ]
  },
  {
   "cell_type": "code",
   "execution_count": null,
   "metadata": {},
   "outputs": [],
   "source": [
    "# TODO figure out how to mask out appropriate bits / contiguity\n",
    "# prepared_state = get_prepared_state(g, sv, naux+1, sel_names=['l', 'p', 'q'])\n",
    "# print(f\"<psi|psi> = {sum(abs(prepared_state)**2.0)}\")\n",
    "# print(abs(prepared_state)**2)\n",
    "# print(coeffs)"
   ]
  },
  {
   "attachments": {},
   "cell_type": "markdown",
   "metadata": {},
   "source": [
    "It may be easier for testing to first consider preparing the state\n",
    "\n",
    "$$\n",
    "IO|0\\rangle = \\sum_l |l\\rangle\\sqrt{\\sum_q|W_q^{(l)}|}\\sum_{q}\\sqrt{W_p^{(l)}}|p\\rangle\n",
    "$$"
   ]
  },
  {
   "attachments": {},
   "cell_type": "markdown",
   "metadata": {},
   "source": []
  },
  {
   "attachments": {},
   "cell_type": "markdown",
   "metadata": {},
   "source": [
    "# Putting it Together"
   ]
  },
  {
   "cell_type": "code",
   "execution_count": 69,
   "metadata": {},
   "outputs": [
    {
     "ename": "AssertionError",
     "evalue": "All qubit registers must pe present",
     "output_type": "error",
     "traceback": [
      "\u001b[0;31m---------------------------------------------------------------------------\u001b[0m",
      "\u001b[0;31mAssertionError\u001b[0m                            Traceback (most recent call last)",
      "Cell \u001b[0;32mIn[69], line 8\u001b[0m\n\u001b[1;32m      3\u001b[0m block_encoding \u001b[39m=\u001b[39m SingleFactorizationBlockEncoding(num_aux\u001b[39m=\u001b[39mnaux, num_spatial\u001b[39m=\u001b[39mnmo, Tpq\u001b[39m=\u001b[39mTpq, Wlpq\u001b[39m=\u001b[39mWlpq)\n\u001b[1;32m      4\u001b[0m g \u001b[39m=\u001b[39m cq_testing\u001b[39m.\u001b[39mGateHelper(\n\u001b[1;32m      5\u001b[0m     block_encoding\n\u001b[1;32m      6\u001b[0m )\n\u001b[0;32m----> 8\u001b[0m display_gate_and_compilation(g, include_costs\u001b[39m=\u001b[39;49m\u001b[39mFalse\u001b[39;49;00m)\n\u001b[1;32m      9\u001b[0m \u001b[39mprint\u001b[39m(\u001b[39mf\u001b[39m\u001b[39m\"\u001b[39m\u001b[39mnum qubits = \u001b[39m\u001b[39m{\u001b[39;00m\u001b[39mlen\u001b[39m(g\u001b[39m.\u001b[39mall_qubits)\u001b[39m}\u001b[39;00m\u001b[39m\"\u001b[39m)\n",
      "File \u001b[0;32m~/projects/cirq/cirq-ft/cirq_ft/infra/jupyter_tools.py:47\u001b[0m, in \u001b[0;36mdisplay_gate_and_compilation\u001b[0;34m(g, vertical, include_costs)\u001b[0m\n\u001b[1;32m     42\u001b[0m     box \u001b[39m=\u001b[39m ipywidgets\u001b[39m.\u001b[39mHBox([out1, out2])\n\u001b[1;32m     44\u001b[0m out1\u001b[39m.\u001b[39mappend_display_data(svg_circuit(g\u001b[39m.\u001b[39mcircuit, registers\u001b[39m=\u001b[39mg\u001b[39m.\u001b[39mr, include_costs\u001b[39m=\u001b[39minclude_costs))\n\u001b[1;32m     45\u001b[0m out2\u001b[39m.\u001b[39mappend_display_data(\n\u001b[1;32m     46\u001b[0m     svg_circuit(\n\u001b[0;32m---> 47\u001b[0m         cirq\u001b[39m.\u001b[39mCircuit(cirq\u001b[39m.\u001b[39;49mdecompose_once(g\u001b[39m.\u001b[39;49moperation)),\n\u001b[1;32m     48\u001b[0m         registers\u001b[39m=\u001b[39mg\u001b[39m.\u001b[39mr,\n\u001b[1;32m     49\u001b[0m         include_costs\u001b[39m=\u001b[39minclude_costs,\n\u001b[1;32m     50\u001b[0m     )\n\u001b[1;32m     51\u001b[0m )\n\u001b[1;32m     53\u001b[0m IPython\u001b[39m.\u001b[39mdisplay\u001b[39m.\u001b[39mdisplay(box)\n",
      "File \u001b[0;32m~/.venvs/cirq_ft/lib/python3.9/site-packages/cirq/protocols/decompose_protocol.py:384\u001b[0m, in \u001b[0;36mdecompose_once\u001b[0;34m(val, default, flatten, context, *args, **kwargs)\u001b[0m\n\u001b[1;32m    381\u001b[0m     decomposed \u001b[39m=\u001b[39m \u001b[39mNotImplemented\u001b[39m \u001b[39mif\u001b[39;00m method \u001b[39mis\u001b[39;00m \u001b[39mNone\u001b[39;00m \u001b[39melse\u001b[39;00m method(\u001b[39m*\u001b[39margs, \u001b[39m*\u001b[39m\u001b[39m*\u001b[39mkwargs)\n\u001b[1;32m    383\u001b[0m \u001b[39mif\u001b[39;00m decomposed \u001b[39mis\u001b[39;00m \u001b[39mnot\u001b[39;00m \u001b[39mNotImplemented\u001b[39m \u001b[39mand\u001b[39;00m decomposed \u001b[39mis\u001b[39;00m \u001b[39mnot\u001b[39;00m \u001b[39mNone\u001b[39;00m:\n\u001b[0;32m--> 384\u001b[0m     \u001b[39mreturn\u001b[39;00m \u001b[39mlist\u001b[39;49m(ops\u001b[39m.\u001b[39;49mflatten_to_ops(decomposed)) \u001b[39mif\u001b[39;00m flatten \u001b[39melse\u001b[39;00m decomposed\n\u001b[1;32m    386\u001b[0m \u001b[39mif\u001b[39;00m default \u001b[39mis\u001b[39;00m \u001b[39mnot\u001b[39;00m RaiseTypeErrorIfNotProvided:\n\u001b[1;32m    387\u001b[0m     \u001b[39mreturn\u001b[39;00m default\n",
      "File \u001b[0;32m~/.venvs/cirq_ft/lib/python3.9/site-packages/cirq/ops/op_tree.py:112\u001b[0m, in \u001b[0;36mflatten_to_ops\u001b[0;34m(root)\u001b[0m\n\u001b[1;32m    110\u001b[0m     \u001b[39myield\u001b[39;00m root\n\u001b[1;32m    111\u001b[0m \u001b[39melif\u001b[39;00m \u001b[39misinstance\u001b[39m(root, Iterable) \u001b[39mand\u001b[39;00m \u001b[39mnot\u001b[39;00m \u001b[39misinstance\u001b[39m(root, \u001b[39mstr\u001b[39m):\n\u001b[0;32m--> 112\u001b[0m     \u001b[39mfor\u001b[39;00m subtree \u001b[39min\u001b[39;00m root:\n\u001b[1;32m    113\u001b[0m         \u001b[39myield from\u001b[39;00m flatten_to_ops(subtree)\n\u001b[1;32m    114\u001b[0m \u001b[39melse\u001b[39;00m:\n",
      "File \u001b[0;32m~/projects/cirq/cirq-ft/cirq_ft/algos/chemistry/single_factorization.py:199\u001b[0m, in \u001b[0;36mSingleFactorizationBlockEncoding.decompose_from_registers\u001b[0;34m(self, context, **quregs)\u001b[0m\n\u001b[1;32m    195\u001b[0m inner_prep \u001b[39m=\u001b[39m InnerPrepareQROM\u001b[39m.\u001b[39mbuild_from_coefficients(\u001b[39mself\u001b[39m\u001b[39m.\u001b[39mWlpq, probability_epsilon\u001b[39m=\u001b[39m\u001b[39m2\u001b[39m\u001b[39m*\u001b[39m\u001b[39m*\u001b[39m(\u001b[39m-\u001b[39m\u001b[39mself\u001b[39m\u001b[39m.\u001b[39mmu) \u001b[39m/\u001b[39m \u001b[39mlen\u001b[39m(\u001b[39mself\u001b[39m\u001b[39m.\u001b[39mWlpq[\u001b[39m0\u001b[39m]))\n\u001b[1;32m    196\u001b[0m inner_prep_anc \u001b[39m=\u001b[39m {\n\u001b[1;32m    197\u001b[0m     reg\u001b[39m.\u001b[39mname: context\u001b[39m.\u001b[39mqubit_manager\u001b[39m.\u001b[39mqalloc(reg\u001b[39m.\u001b[39mbitsize) \u001b[39mfor\u001b[39;00m reg \u001b[39min\u001b[39;00m inner_prep\u001b[39m.\u001b[39mjunk_registers\n\u001b[1;32m    198\u001b[0m }\n\u001b[0;32m--> 199\u001b[0m \u001b[39myield\u001b[39;00m outer_prep\u001b[39m.\u001b[39;49mon_registers(\u001b[39m*\u001b[39;49m\u001b[39m*\u001b[39;49mquregs, \u001b[39m*\u001b[39;49m\u001b[39m*\u001b[39;49minner_prep_anc)\n",
      "File \u001b[0;32m~/projects/cirq/cirq-ft/cirq_ft/infra/gate_with_registers.py:319\u001b[0m, in \u001b[0;36mGateWithRegisters.on_registers\u001b[0;34m(self, **qubit_regs)\u001b[0m\n\u001b[1;32m    318\u001b[0m \u001b[39mdef\u001b[39;00m \u001b[39mon_registers\u001b[39m(\u001b[39mself\u001b[39m, \u001b[39m*\u001b[39m\u001b[39m*\u001b[39mqubit_regs: Union[cirq\u001b[39m.\u001b[39mQid, Sequence[cirq\u001b[39m.\u001b[39mQid]]) \u001b[39m-\u001b[39m\u001b[39m>\u001b[39m cirq\u001b[39m.\u001b[39mOperation:\n\u001b[0;32m--> 319\u001b[0m     \u001b[39mreturn\u001b[39;00m \u001b[39mself\u001b[39m\u001b[39m.\u001b[39mon(\u001b[39m*\u001b[39m\u001b[39mself\u001b[39;49m\u001b[39m.\u001b[39;49mregisters\u001b[39m.\u001b[39;49mmerge_qubits(\u001b[39m*\u001b[39;49m\u001b[39m*\u001b[39;49mqubit_regs))\n",
      "File \u001b[0;32m~/projects/cirq/cirq-ft/cirq_ft/infra/gate_with_registers.py:108\u001b[0m, in \u001b[0;36mRegisters.merge_qubits\u001b[0;34m(self, **qubit_regs)\u001b[0m\n\u001b[1;32m    106\u001b[0m ret: List[cirq\u001b[39m.\u001b[39mQid] \u001b[39m=\u001b[39m []\n\u001b[1;32m    107\u001b[0m \u001b[39mfor\u001b[39;00m reg \u001b[39min\u001b[39;00m \u001b[39mself\u001b[39m:\n\u001b[0;32m--> 108\u001b[0m     \u001b[39massert\u001b[39;00m reg\u001b[39m.\u001b[39mname \u001b[39min\u001b[39;00m qubit_regs, \u001b[39m\"\u001b[39m\u001b[39mAll qubit registers must pe present\u001b[39m\u001b[39m\"\u001b[39m\n\u001b[1;32m    109\u001b[0m     qubits \u001b[39m=\u001b[39m qubit_regs[reg\u001b[39m.\u001b[39mname]\n\u001b[1;32m    110\u001b[0m     qubits \u001b[39m=\u001b[39m [qubits] \u001b[39mif\u001b[39;00m \u001b[39misinstance\u001b[39m(qubits, cirq\u001b[39m.\u001b[39mQid) \u001b[39melse\u001b[39;00m qubits\n",
      "\u001b[0;31mAssertionError\u001b[0m: All qubit registers must pe present"
     ]
    }
   ],
   "source": [
    "from cirq_ft.algos.chemistry.single_factorization import SingleFactorizationBlockEncoding \n",
    "\n",
    "block_encoding = SingleFactorizationBlockEncoding(num_aux=naux, num_spatial=nmo, Tpq=Tpq, Wlpq=Wlpq)\n",
    "g = cq_testing.GateHelper(\n",
    "    block_encoding\n",
    ")\n",
    "\n",
    "display_gate_and_compilation(g, include_costs=False)\n",
    "print(f\"num qubits = {len(g.all_qubits)}\")"
   ]
  },
  {
   "cell_type": "code",
   "execution_count": null,
   "metadata": {},
   "outputs": [],
   "source": []
  }
 ],
 "metadata": {
  "kernelspec": {
   "display_name": "cirq-ft",
   "language": "python",
   "name": "python3"
  },
  "language_info": {
   "codemirror_mode": {
    "name": "ipython",
    "version": 3
   },
   "file_extension": ".py",
   "mimetype": "text/x-python",
   "name": "python",
   "nbconvert_exporter": "python",
   "pygments_lexer": "ipython3",
   "version": "3.9.6"
  },
  "orig_nbformat": 4
 },
 "nbformat": 4,
 "nbformat_minor": 2
}
